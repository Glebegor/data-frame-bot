{
 "cells": [
  {
   "cell_type": "markdown",
   "id": "523f3e2f",
   "metadata": {},
   "source": [
    "# Start of chat bot.\n",
    "This bot can help you with your question about games and more.\n",
    "Using dataset: https://www.kaggle.com/datasets/arnabchaki/popular-video-games-1980-2023?resource=download\n"
   ]
  },
  {
   "cell_type": "code",
   "execution_count": 1,
   "id": "123667c8",
   "metadata": {},
   "outputs": [
    {
     "name": "stdout",
     "output_type": "stream",
     "text": [
      "Hello, ma name is HelperGames_Bot.\n"
     ]
    }
   ],
   "source": [
    "import pandas as pd\n",
    "import numpy as np\n",
    "\n",
    "df = pd.read_csv('./games.csv', index_col=0)\n",
    "fields = df.columns\n",
    "print('Hello, ma name is HelperGames_Bot.')"
   ]
  },
  {
   "cell_type": "markdown",
   "id": "0e93fc67",
   "metadata": {},
   "source": [
    "### This function creating .cvs file\n",
    "By two params, data frame and file name, we can optimise of creating files."
   ]
  },
  {
   "cell_type": "code",
   "execution_count": 2,
   "id": "11cd090b",
   "metadata": {},
   "outputs": [],
   "source": [
    "def CreateFileCSV(df, fileName):\n",
    "    df.to_csv(f'./{fileName}.csv')\n",
    "    print(f'Created file {fileName}.csv')"
   ]
  },
  {
   "cell_type": "markdown",
   "id": "ecac4905",
   "metadata": {},
   "source": [
    "### Here we can see start of our bot. \n",
    "For the first we talk to user that he write needed name of fields separated by commas to save it in file newGames.csv.\n",
    "After we spliting string to array, and creating for loop to check that user fields available at fields of data frame.\n",
    "If yes, we will creating file newGames.csv.\n",
    "If no, we will showing a problem."
   ]
  },
  {
   "cell_type": "code",
   "execution_count": 3,
   "id": "c19949ef",
   "metadata": {
    "scrolled": true
   },
   "outputs": [
    {
     "name": "stdout",
     "output_type": "stream",
     "text": [
      "If you want, you will can save filtered dataset by your fields. If your don`t want-press enter.\n",
      "Fields what you can change: \n",
      "Title, Release Date, Team, Rating, Times Listed, Number of Reviews, Genres, Summary, Reviews, Plays, Playing, Backlogs, Wishlist\n",
      "!!!Please enter the fields that you WANT TO SAVE and separated by commas ',' WITHOUT spaces!!!\n",
      "Title,Number of Reviews\n",
      "Created file newGames.csv\n"
     ]
    }
   ],
   "source": [
    "showFields = ''\n",
    "for el in fields:\n",
    "    showFields += f'{el}, '\n",
    "saveFields = input(f\"If you want, you will can save filtered dataset by your fields. If your don`t want-press enter.\\nFields what you can change: \\n{showFields[:-2]}\\n!!!Please enter the fields that you WANT TO SAVE and separated by commas ',' WITHOUT spaces!!!\\n\")\n",
    "\n",
    "if saveFields != '':\n",
    "    saveFields = saveFields.split(',')\n",
    "    \n",
    "    saveFieldInFields = True\n",
    "    for el in saveFields:\n",
    "        if el not in fields:\n",
    "            saveFieldInFields = False\n",
    "            break\n",
    "    \n",
    "    if saveFieldInFields == True:\n",
    "        dataFrame = df[saveFields]\n",
    "        CreateFileCSV(dataFrame,\"newGames\")\n",
    "    else:\n",
    "        print(\"You haven't written anything or wrote wrong field, file wasn't saving\")\n",
    "else:\n",
    "    print(\"File was't saving, you don't write anything\")"
   ]
  },
  {
   "cell_type": "markdown",
   "id": "04c01583",
   "metadata": {},
   "source": [
    "### Some info about dataset\n",
    "This dataset of Popular Video Games 1980 - 2023 years.\n",
    "On this Graph you can see structure of dataset.\n",
    "This dataset has 1500 rows and 11 columns."
   ]
  },
  {
   "cell_type": "code",
   "execution_count": 4,
   "id": "175b0063",
   "metadata": {
    "scrolled": true
   },
   "outputs": [
    {
     "data": {
      "text/html": [
       "<div>\n",
       "<style scoped>\n",
       "    .dataframe tbody tr th:only-of-type {\n",
       "        vertical-align: middle;\n",
       "    }\n",
       "\n",
       "    .dataframe tbody tr th {\n",
       "        vertical-align: top;\n",
       "    }\n",
       "\n",
       "    .dataframe thead th {\n",
       "        text-align: right;\n",
       "    }\n",
       "</style>\n",
       "<table border=\"1\" class=\"dataframe\">\n",
       "  <thead>\n",
       "    <tr style=\"text-align: right;\">\n",
       "      <th></th>\n",
       "      <th>Title</th>\n",
       "      <th>Release Date</th>\n",
       "      <th>Team</th>\n",
       "      <th>Rating</th>\n",
       "      <th>Times Listed</th>\n",
       "      <th>Number of Reviews</th>\n",
       "      <th>Genres</th>\n",
       "      <th>Summary</th>\n",
       "      <th>Reviews</th>\n",
       "      <th>Plays</th>\n",
       "      <th>Playing</th>\n",
       "      <th>Backlogs</th>\n",
       "      <th>Wishlist</th>\n",
       "    </tr>\n",
       "  </thead>\n",
       "  <tbody>\n",
       "    <tr>\n",
       "      <th>0</th>\n",
       "      <td>Elden Ring</td>\n",
       "      <td>Feb 25, 2022</td>\n",
       "      <td>['Bandai Namco Entertainment', 'FromSoftware']</td>\n",
       "      <td>4.5</td>\n",
       "      <td>3.9K</td>\n",
       "      <td>3.9K</td>\n",
       "      <td>['Adventure', 'RPG']</td>\n",
       "      <td>Elden Ring is a fantasy, action and open world...</td>\n",
       "      <td>[\"The first playthrough of elden ring is one o...</td>\n",
       "      <td>17K</td>\n",
       "      <td>3.8K</td>\n",
       "      <td>4.6K</td>\n",
       "      <td>4.8K</td>\n",
       "    </tr>\n",
       "    <tr>\n",
       "      <th>1</th>\n",
       "      <td>Hades</td>\n",
       "      <td>Dec 10, 2019</td>\n",
       "      <td>['Supergiant Games']</td>\n",
       "      <td>4.3</td>\n",
       "      <td>2.9K</td>\n",
       "      <td>2.9K</td>\n",
       "      <td>['Adventure', 'Brawler', 'Indie', 'RPG']</td>\n",
       "      <td>A rogue-lite hack and slash dungeon crawler in...</td>\n",
       "      <td>['convinced this is a roguelike for people who...</td>\n",
       "      <td>21K</td>\n",
       "      <td>3.2K</td>\n",
       "      <td>6.3K</td>\n",
       "      <td>3.6K</td>\n",
       "    </tr>\n",
       "    <tr>\n",
       "      <th>2</th>\n",
       "      <td>The Legend of Zelda: Breath of the Wild</td>\n",
       "      <td>Mar 03, 2017</td>\n",
       "      <td>['Nintendo', 'Nintendo EPD Production Group No...</td>\n",
       "      <td>4.4</td>\n",
       "      <td>4.3K</td>\n",
       "      <td>4.3K</td>\n",
       "      <td>['Adventure', 'RPG']</td>\n",
       "      <td>The Legend of Zelda: Breath of the Wild is the...</td>\n",
       "      <td>['This game is the game (that is not CS:GO) th...</td>\n",
       "      <td>30K</td>\n",
       "      <td>2.5K</td>\n",
       "      <td>5K</td>\n",
       "      <td>2.6K</td>\n",
       "    </tr>\n",
       "    <tr>\n",
       "      <th>3</th>\n",
       "      <td>Undertale</td>\n",
       "      <td>Sep 15, 2015</td>\n",
       "      <td>['tobyfox', '8-4']</td>\n",
       "      <td>4.2</td>\n",
       "      <td>3.5K</td>\n",
       "      <td>3.5K</td>\n",
       "      <td>['Adventure', 'Indie', 'RPG', 'Turn Based Stra...</td>\n",
       "      <td>A small child falls into the Underground, wher...</td>\n",
       "      <td>['soundtrack is tied for #1 with nier automata...</td>\n",
       "      <td>28K</td>\n",
       "      <td>679</td>\n",
       "      <td>4.9K</td>\n",
       "      <td>1.8K</td>\n",
       "    </tr>\n",
       "    <tr>\n",
       "      <th>4</th>\n",
       "      <td>Hollow Knight</td>\n",
       "      <td>Feb 24, 2017</td>\n",
       "      <td>['Team Cherry']</td>\n",
       "      <td>4.4</td>\n",
       "      <td>3K</td>\n",
       "      <td>3K</td>\n",
       "      <td>['Adventure', 'Indie', 'Platform']</td>\n",
       "      <td>A 2D metroidvania with an emphasis on close co...</td>\n",
       "      <td>[\"this games worldbuilding is incredible, with...</td>\n",
       "      <td>21K</td>\n",
       "      <td>2.4K</td>\n",
       "      <td>8.3K</td>\n",
       "      <td>2.3K</td>\n",
       "    </tr>\n",
       "  </tbody>\n",
       "</table>\n",
       "</div>"
      ],
      "text/plain": [
       "                                     Title  Release Date   \n",
       "0                               Elden Ring  Feb 25, 2022  \\\n",
       "1                                    Hades  Dec 10, 2019   \n",
       "2  The Legend of Zelda: Breath of the Wild  Mar 03, 2017   \n",
       "3                                Undertale  Sep 15, 2015   \n",
       "4                            Hollow Knight  Feb 24, 2017   \n",
       "\n",
       "                                                Team  Rating Times Listed   \n",
       "0     ['Bandai Namco Entertainment', 'FromSoftware']     4.5         3.9K  \\\n",
       "1                               ['Supergiant Games']     4.3         2.9K   \n",
       "2  ['Nintendo', 'Nintendo EPD Production Group No...     4.4         4.3K   \n",
       "3                                 ['tobyfox', '8-4']     4.2         3.5K   \n",
       "4                                    ['Team Cherry']     4.4           3K   \n",
       "\n",
       "  Number of Reviews                                             Genres   \n",
       "0              3.9K                               ['Adventure', 'RPG']  \\\n",
       "1              2.9K           ['Adventure', 'Brawler', 'Indie', 'RPG']   \n",
       "2              4.3K                               ['Adventure', 'RPG']   \n",
       "3              3.5K  ['Adventure', 'Indie', 'RPG', 'Turn Based Stra...   \n",
       "4                3K                 ['Adventure', 'Indie', 'Platform']   \n",
       "\n",
       "                                             Summary   \n",
       "0  Elden Ring is a fantasy, action and open world...  \\\n",
       "1  A rogue-lite hack and slash dungeon crawler in...   \n",
       "2  The Legend of Zelda: Breath of the Wild is the...   \n",
       "3  A small child falls into the Underground, wher...   \n",
       "4  A 2D metroidvania with an emphasis on close co...   \n",
       "\n",
       "                                             Reviews Plays Playing Backlogs   \n",
       "0  [\"The first playthrough of elden ring is one o...   17K    3.8K     4.6K  \\\n",
       "1  ['convinced this is a roguelike for people who...   21K    3.2K     6.3K   \n",
       "2  ['This game is the game (that is not CS:GO) th...   30K    2.5K       5K   \n",
       "3  ['soundtrack is tied for #1 with nier automata...   28K     679     4.9K   \n",
       "4  [\"this games worldbuilding is incredible, with...   21K    2.4K     8.3K   \n",
       "\n",
       "  Wishlist  \n",
       "0     4.8K  \n",
       "1     3.6K  \n",
       "2     2.6K  \n",
       "3     1.8K  \n",
       "4     2.3K  "
      ]
     },
     "execution_count": 4,
     "metadata": {},
     "output_type": "execute_result"
    }
   ],
   "source": [
    "df.head()"
   ]
  },
  {
   "cell_type": "markdown",
   "id": "34dffc09",
   "metadata": {},
   "source": [
    "### Getting games by your ganre and company.\n",
    "In this function we asking on user ganre and company of game/s.\n",
    "After we genering data frame and if we have game/s, we will creating GetGame.csv file."
   ]
  },
  {
   "cell_type": "code",
   "execution_count": 5,
   "id": "5fa04794",
   "metadata": {},
   "outputs": [],
   "source": [
    "def GetGame():\n",
    "    print(\"So, let's start\")\n",
    "    genre = input('Give to me ganre your game/s:\\n')\n",
    "    team = input('Give to me team that created game/s:\\n')\n",
    "    \n",
    "    dataFrame = df[(df['Genres'].str.contains(genre)) & (df['Team'].str.contains(team))]\n",
    "    if not dataFrame.empty:\n",
    "        CreateFileCSV(dataFrame, 'GetGame')\n",
    "    else:\n",
    "        print(f\"Sorry, but I can't find games with genre:{genre} and team: {team}\")"
   ]
  },
  {
   "cell_type": "markdown",
   "id": "349ae879",
   "metadata": {},
   "source": [
    "### Getting count of games\n",
    "This function is returning count of games what by your filter.\n",
    "For the first, you input name of team that created game/s.\n",
    "For the second, you need to input rating of game/s that you want to find.\n",
    "After we filtering data frame and taking his length.\n",
    "Checking on empty of dataframe.\n",
    "And printing info or printing question how to solve your problem."
   ]
  },
  {
   "cell_type": "code",
   "execution_count": 6,
   "id": "263fc053",
   "metadata": {},
   "outputs": [],
   "source": [
    "def CountOfGamesByRate():\n",
    "    team = str(input('Give me team what you want to check count of games with your rating:\\n'))\n",
    "    try:\n",
    "        rating = float(input('Input rating of games what you want find in this company:\\n'))\n",
    "        dataFrame = df[(df['Rating'] == rating) & (df['Team'].str.contains(team))]\n",
    "        CountOfRateGames = len(dataFrame)\n",
    "\n",
    "        if int(CountOfRateGames) == 0:\n",
    "            print(\"Games was'n found.\")\n",
    "        print(f\"Count of rated games is {CountOfRateGames}\")\n",
    "    except:\n",
    "        print('Please, write rating of games what you want to find(3.3, 4.9, 3.9 ...).')\n",
    "        return"
   ]
  },
  {
   "cell_type": "markdown",
   "id": "3ed98c14",
   "metadata": {},
   "source": [
    "### Getting review\n",
    "By this function you can get review on 5 random games.\n",
    "With method sample we taking dataset. After taking title and reviews from this dataset.\n",
    "And at the end creating csv. file."
   ]
  },
  {
   "cell_type": "code",
   "execution_count": 7,
   "id": "3b0af8f8",
   "metadata": {},
   "outputs": [],
   "source": [
    "def GiveReviewOf5Games():\n",
    "    dataFrame = df.sample(n = 5)[['Title', 'Reviews']]\n",
    "    CreateFileCSV(dataFrame,'ReviewOf5RandGames')"
   ]
  },
  {
   "cell_type": "markdown",
   "id": "19724d17",
   "metadata": {},
   "source": [
    "### Main loop\n",
    "in this loop we checking choises of user.\n",
    "Giving to him information about commands."
   ]
  },
  {
   "cell_type": "code",
   "execution_count": null,
   "id": "8410311b",
   "metadata": {},
   "outputs": [
    {
     "name": "stdout",
     "output_type": "stream",
     "text": [
      "How can I help you?(if you need help with commands write !help):\n",
      "!help\n",
      "I can do 4 functions: \n",
      "!GetGame - Give to you games on your taste.\n",
      "!CountOfGamesByRate - I can give to you count of games by team and rating.\n",
      "!GiveReviewOf5Games - I can give to you rewiev on 5 games.\n",
      "How can I help you?(if you need help with commands write !help):\n",
      "!GetGame\n",
      "So, let's start\n",
      "Give to me ganre your game/s:\n",
      "RPG\n",
      "Give to me team that created game/s:\n",
      "Nintendo\n",
      "Created file GetGame.csv\n",
      "How can I help you?(if you need help with commands write !help):\n",
      "!help\n",
      "I can do 4 functions: \n",
      "!GetGame - Give to you games on your taste.\n",
      "!CountOfGamesByRate - I can give to you count of games by team and rating.\n",
      "!GiveReviewOf5Games - I can give to you rewiev on 5 games.\n",
      "How can I help you?(if you need help with commands write !help):\n",
      "!CountOfGamesByRate\n",
      "Give me team what you want to check count of games with your rating:\n",
      "Nintendo\n",
      "Input rating of games what you want find in this company:\n",
      "4.4\n",
      "Count of rated games is 9\n",
      "How can I help you?(if you need help with commands write !help):\n",
      "!help\n",
      "I can do 4 functions: \n",
      "!GetGame - Give to you games on your taste.\n",
      "!CountOfGamesByRate - I can give to you count of games by team and rating.\n",
      "!GiveReviewOf5Games - I can give to you rewiev on 5 games.\n",
      "How can I help you?(if you need help with commands write !help):\n",
      "!GiveReviewOf5Games\n",
      "Created file ReviewOf5RandGames.csv\n"
     ]
    }
   ],
   "source": [
    "while True:\n",
    "    NextStep = input('How can I help you?(if you need help with commands write !help):\\n')\n",
    "    match NextStep:\n",
    "        case '!help':\n",
    "            print('I can do 4 functions: \\n!GetGame - Give to you games on your taste.\\n!CountOfGamesByRate - I can give to you count of games by team and rating.\\n!GiveReviewOf5Games - I can give to you rewiev on 5 random games.')\n",
    "        case '!GetGame':\n",
    "            GetGame()\n",
    "        case '!CountOfGamesByRate':\n",
    "            CountOfGamesByRate()\n",
    "        case '!GiveReviewOf5Games':\n",
    "            GiveReviewOf5Games()\n",
    "        case '!quit':\n",
    "            print('Thanks for your visit!')\n",
    "            break\n",
    "        case _:\n",
    "            print('Please write !help to see your commands, or !quit to logout from chat bot')"
   ]
  },
  {
   "cell_type": "code",
   "execution_count": null,
   "id": "6a57d361",
   "metadata": {},
   "outputs": [],
   "source": []
  }
 ],
 "metadata": {
  "kernelspec": {
   "display_name": "Python 3 (ipykernel)",
   "language": "python",
   "name": "python3"
  },
  "language_info": {
   "codemirror_mode": {
    "name": "ipython",
    "version": 3
   },
   "file_extension": ".py",
   "mimetype": "text/x-python",
   "name": "python",
   "nbconvert_exporter": "python",
   "pygments_lexer": "ipython3",
   "version": "3.10.11"
  }
 },
 "nbformat": 4,
 "nbformat_minor": 5
}
